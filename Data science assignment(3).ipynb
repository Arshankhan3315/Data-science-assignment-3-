{
 "cells": [
  {
   "cell_type": "raw",
   "id": "cf1ff327-9a75-4f02-94ac-2be2a9777ac3",
   "metadata": {},
   "source": [
    "Assignment -3-(python)"
   ]
  },
  {
   "cell_type": "markdown",
   "id": "00267312-532a-4885-89e8-01f4ee4700eb",
   "metadata": {},
   "source": [
    "Question-1-Which keyword is used to create a function? Create a function to return a list of odd numbers in the\n",
    "range of 1 to 25."
   ]
  },
  {
   "cell_type": "markdown",
   "id": "d0afe64a-6fc4-41cd-86a1-0707bb7566dc",
   "metadata": {},
   "source": [
    "Answer-1- The keyword used to create a function is typically \"def\" (short for \"define\"). "
   ]
  },
  {
   "cell_type": "code",
   "execution_count": 5,
   "id": "73cb9b33-83d6-42df-9ea8-dea295218b7e",
   "metadata": {},
   "outputs": [
    {
     "name": "stdout",
     "output_type": "stream",
     "text": [
      "[1, 3, 5, 7, 9, 11, 13, 15, 17, 19, 21, 23, 25]\n"
     ]
    }
   ],
   "source": [
    "def odd_numbers():\n",
    "    l = []\n",
    "    for i in range(1, 26):\n",
    "        if i % 2 != 0:\n",
    "            l.append(i)\n",
    "    return l\n",
    "\n",
    "result = odd_numbers()\n",
    "print(result)"
   ]
  },
  {
   "cell_type": "markdown",
   "id": "d583d7b7-06e7-49d4-849d-a8ee4256f569",
   "metadata": {},
   "source": [
    "Question-2-Why *args and **kwargs is used in some functions? Create a function each for *args and **kwargs\n",
    "to demonstrate their use."
   ]
  },
  {
   "cell_type": "markdown",
   "id": "5570b5fb-8f89-4ceb-9c0a-9f8700152bb4",
   "metadata": {},
   "source": [
    "Answer-2-*args and **kwargs are used to pass a variable number of arguments to a function. They allow you to create functions that can accept an arbitrary number of positional and keyword arguments, respectively."
   ]
  },
  {
   "cell_type": "code",
   "execution_count": 6,
   "id": "7b95361a-5a72-4769-92d2-2ec4beea3672",
   "metadata": {},
   "outputs": [],
   "source": [
    "#*args allows you to pass a variable number of positional arguments to a function."
   ]
  },
  {
   "cell_type": "code",
   "execution_count": 7,
   "id": "c01a502c-7952-468b-b1ec-34ba99b37d77",
   "metadata": {},
   "outputs": [],
   "source": [
    "#**kwargs allows you to pass a variable number of keyword arguments (arguments specified with names) to a function."
   ]
  },
  {
   "cell_type": "code",
   "execution_count": 9,
   "id": "edb7aef2-ff1e-4c7b-8acc-744a73bac7fe",
   "metadata": {},
   "outputs": [
    {
     "name": "stdout",
     "output_type": "stream",
     "text": [
      "Sum: 15\n",
      "name: Alice\n",
      "age: 30\n",
      "city: Wonderland\n"
     ]
    }
   ],
   "source": [
    "# Function that uses *args to sum up a variable number of arguments\n",
    "def sum_args(*args):\n",
    "    total = sum(args)\n",
    "    return total\n",
    "\n",
    "# Demonstrate *args\n",
    "result = sum_args(1, 2, 3, 4, 5)\n",
    "print(\"Sum:\", result)\n",
    "\n",
    "# Function that uses **kwargs to display key-value pairs of arbitrary arguments\n",
    "def display_kwargs(**kwargs):\n",
    "    for key, value in kwargs.items():\n",
    "        print(f\"{key}: {value}\")\n",
    "\n",
    "# Demonstrate **kwargs\n",
    "display_kwargs(name=\"Alice\", age=30, city=\"Wonderland\")"
   ]
  },
  {
   "cell_type": "markdown",
   "id": "4421593f-b5ba-4aef-b3ec-2e9abf8b37b9",
   "metadata": {},
   "source": [
    "Question-3- What is an iterator in python? Name the method used to initialise the iterator object and the method\n",
    "used for iteration. Use these methods to print the first five elements of the given list [2, 4, 6, 8, 10, 12, 14,\n",
    "16, 18, 20]."
   ]
  },
  {
   "cell_type": "markdown",
   "id": "feca3f0a-6823-4790-8dab-bfc90d73c99f",
   "metadata": {},
   "source": [
    "Answer-3-, an iterator is an object that allows you to traverse through a collection of items, one at a time, without needing to know the underlying details of how the collection is implemented"
   ]
  },
  {
   "cell_type": "code",
   "execution_count": 10,
   "id": "5cfef675-37af-4025-95c3-2e24524e20ba",
   "metadata": {},
   "outputs": [],
   "source": [
    "# __iter__() method: This method is used to initialize the iterator object and return the iterator itself."
   ]
  },
  {
   "cell_type": "code",
   "execution_count": 13,
   "id": "4d2546bb-5366-4fb4-a723-58ac62dfb767",
   "metadata": {},
   "outputs": [],
   "source": [
    "#__next__() method: This method is used to retrieve the next element from the iterator.\n",
    "#It raises the StopIteration exception when there are no more elements to iterate over."
   ]
  },
  {
   "cell_type": "code",
   "execution_count": 16,
   "id": "8810641e-d894-4425-b52f-393e21673384",
   "metadata": {},
   "outputs": [
    {
     "name": "stdout",
     "output_type": "stream",
     "text": [
      "2\n",
      "4\n",
      "6\n",
      "8\n",
      "10\n"
     ]
    }
   ],
   "source": [
    "# Given list\n",
    "my_list = [2, 4, 6, 8, 10, 12, 14, 16, 18, 20]\n",
    "\n",
    "# Initialize the iterator\n",
    "iterator = ListIterator(my_list)\n",
    "\n",
    "# Iterate and print the first five elements\n",
    "for _ in range(5):\n",
    "    print(next(iterator))"
   ]
  },
  {
   "cell_type": "markdown",
   "id": "92f46279-2fd5-41b6-9a64-ca03cec9539d",
   "metadata": {},
   "source": [
    "Question-4-What is a generator function in python? Why yield keyword is used? Give an example of a generator\n",
    "function."
   ]
  },
  {
   "cell_type": "markdown",
   "id": "8590bc58-03ca-4202-be55-1bbdbc60825a",
   "metadata": {},
   "source": [
    "Answer-4-A generator function in Python is a special type of function that generates values on-the-fly and returns them one at a time using the yield keyword"
   ]
  },
  {
   "cell_type": "markdown",
   "id": "a6930d24-167d-4b53-94e1-669e8d959e60",
   "metadata": {},
   "source": [
    "The yield keyword is used in a generator function to temporarily suspend the function's execution and yield a value to the caller. The function's state is preserved, allowing it to resume execution from where it left off the next time the generator's __next__() method is called."
   ]
  },
  {
   "cell_type": "code",
   "execution_count": 18,
   "id": "95d48114-2b20-4a74-a6c9-f79e07d5e104",
   "metadata": {},
   "outputs": [
    {
     "name": "stdout",
     "output_type": "stream",
     "text": [
      "0\n",
      "2\n",
      "4\n",
      "6\n",
      "8\n"
     ]
    }
   ],
   "source": [
    "def even_numbers_generator(n):\n",
    "    num = 0\n",
    "    while num < n:\n",
    "        yield num\n",
    "        num += 2\n",
    "\n",
    "# Create a generator object\n",
    "even_generator = even_numbers_generator(10)\n",
    "\n",
    "# Iterate over the generator to get even numbers\n",
    "for even_num in even_generator:\n",
    "    print(even_num)"
   ]
  },
  {
   "cell_type": "markdown",
   "id": "6b555627-360e-42c0-b42e-b47f1ad660da",
   "metadata": {},
   "source": [
    "Question-5-Create a generator function for prime numbers less than 1000. Use the next() method to print the\n",
    "first 20 prime numbers."
   ]
  },
  {
   "cell_type": "markdown",
   "id": "43415314-fee5-476b-9e95-ebabf4b071a8",
   "metadata": {},
   "source": [
    "Answer-5-"
   ]
  },
  {
   "cell_type": "code",
   "execution_count": 22,
   "id": "24631adc-163a-484e-95f6-19541df81833",
   "metadata": {},
   "outputs": [
    {
     "name": "stdout",
     "output_type": "stream",
     "text": [
      "2\n",
      "3\n",
      "5\n",
      "7\n",
      "11\n",
      "13\n",
      "17\n",
      "19\n",
      "23\n",
      "29\n",
      "31\n",
      "37\n",
      "41\n",
      "43\n",
      "47\n",
      "53\n",
      "59\n",
      "61\n",
      "67\n",
      "71\n"
     ]
    }
   ],
   "source": [
    "def prime(n):\n",
    "    if n <= 1:\n",
    "        return False\n",
    "    if n <= 3:\n",
    "        return True\n",
    "    if n % 2 == 0 or n % 3 == 0:\n",
    "        return False\n",
    "    i = 5\n",
    "    while i * i <= n:\n",
    "        if n % i == 0 or n % (i + 2) == 0:\n",
    "            return False\n",
    "        i += 6\n",
    "    return True\n",
    "\n",
    "def prime_generator(limit):\n",
    "    n = 2\n",
    "    while n < limit:\n",
    "        if prime(n):\n",
    "            yield n\n",
    "        n += 1\n",
    "\n",
    "prime_gen = prime_generator(1000)\n",
    "\n",
    "#the first 20 prime numbers\n",
    "for _ in range(20):\n",
    "    print(next(prime_gen))\n",
    "\n",
    "    "
   ]
  },
  {
   "cell_type": "markdown",
   "id": "26570bd5-1163-4ba8-a982-87d4d658b2b8",
   "metadata": {},
   "source": [
    "Question-6-Write a python program to print the first 10 Fibonacci numbers using a while loop."
   ]
  },
  {
   "cell_type": "markdown",
   "id": "f74d3aeb-f282-4146-8365-279059eda152",
   "metadata": {},
   "source": [
    "Answer-6-"
   ]
  },
  {
   "cell_type": "code",
   "execution_count": 26,
   "id": "7b3de979-b73d-484d-a5ee-2b5cf9a39a33",
   "metadata": {},
   "outputs": [],
   "source": [
    "def test_fib():\n",
    "    a,b=0,1\n",
    "    while True:\n",
    "        yield a\n",
    "        a,b=b, a+b"
   ]
  },
  {
   "cell_type": "code",
   "execution_count": 27,
   "id": "f8381689-85fd-4a1f-8ea8-1e8d16ab5c0e",
   "metadata": {},
   "outputs": [],
   "source": [
    "fib=test_fib()"
   ]
  },
  {
   "cell_type": "code",
   "execution_count": 25,
   "id": "6e6edc74-f0a2-472e-bba6-cc425611397f",
   "metadata": {},
   "outputs": [
    {
     "name": "stdout",
     "output_type": "stream",
     "text": [
      "0\n",
      "1\n",
      "1\n",
      "2\n",
      "3\n",
      "5\n",
      "8\n",
      "13\n",
      "21\n",
      "34\n"
     ]
    }
   ],
   "source": [
    "for i in range(10):\n",
    "    print(next(fib))"
   ]
  },
  {
   "cell_type": "markdown",
   "id": "a40cbe02-1d3c-4450-b3a1-b89501c5422c",
   "metadata": {},
   "source": [
    "Question-7-Write a List Comprehension to iterate through the given string: ‘pwskills’.\n",
    "Expected output: ['p', 'w', 's', 'k', 'i', 'l', 'l', 's']"
   ]
  },
  {
   "cell_type": "markdown",
   "id": "8a7b49d3-9ceb-4812-8eea-682d1a491ee6",
   "metadata": {},
   "source": [
    "Answer-7-"
   ]
  },
  {
   "cell_type": "code",
   "execution_count": 29,
   "id": "851ca8ca-a4cb-4205-9d81-f19b7d63ce80",
   "metadata": {},
   "outputs": [
    {
     "name": "stdout",
     "output_type": "stream",
     "text": [
      "['p', 'w', 's', 'k', 'i', 'l', 'l', 's']\n"
     ]
    }
   ],
   "source": [
    "s = 'pwskills'\n",
    "l = [char for char in s if char.isalpha()]\n",
    "print(l)"
   ]
  },
  {
   "cell_type": "markdown",
   "id": "9f6b1d45-0d54-4e09-ae7c-100d1995d94f",
   "metadata": {},
   "source": [
    "Ques-8-Write a python program to check whether a given number is Palindrome or not using a while loop."
   ]
  },
  {
   "cell_type": "markdown",
   "id": "da148835-3c44-428b-bd66-29703d8b7b79",
   "metadata": {},
   "source": [
    "Answer-8-"
   ]
  },
  {
   "cell_type": "code",
   "execution_count": 32,
   "id": "448684ee-1210-4651-a5db-0def72b6aa2a",
   "metadata": {},
   "outputs": [
    {
     "name": "stdin",
     "output_type": "stream",
     "text": [
      "Enter a n:  100\n"
     ]
    },
    {
     "name": "stdout",
     "output_type": "stream",
     "text": [
      "100 is not a palindrome.\n"
     ]
    }
   ],
   "source": [
    "def palindrome(n):\n",
    "    original_n = n\n",
    "    reversed_n = 0\n",
    "\n",
    "    while n > 0:\n",
    "        digit = n % 10\n",
    "        reversed_n = reversed_n * 10 + digit\n",
    "        n //= 10\n",
    "\n",
    "    return original_n == reversed_n\n",
    "\n",
    "# Input from the user\n",
    "num = int(input(\"Enter a n: \"))\n",
    "\n",
    "if palindrome(num):\n",
    "    print(f\"{num} is a palindrome.\")\n",
    "else:\n",
    "    print(f\"{num} is not a palindrome.\")"
   ]
  },
  {
   "cell_type": "markdown",
   "id": "cf6ef883-8e3a-4fc1-aaa9-ec02c72ad580",
   "metadata": {},
   "source": [
    "Question-9-Write a code to print odd numbers from 1 to 100 using list comprehension.\n",
    "Note: Use a list comprehension to create a list from 1 to 100 and use another List comprehension to filter\n",
    "out odd numbers."
   ]
  },
  {
   "cell_type": "markdown",
   "id": "132fc7c6-caeb-46e0-b540-18a2ff3bca4b",
   "metadata": {},
   "source": [
    "Answer-9-"
   ]
  },
  {
   "cell_type": "code",
   "execution_count": 33,
   "id": "4c54c1da-0502-47c4-a63f-6b788786142e",
   "metadata": {},
   "outputs": [
    {
     "name": "stdout",
     "output_type": "stream",
     "text": [
      "[1, 3, 5, 7, 9, 11, 13, 15, 17, 19, 21, 23, 25, 27, 29, 31, 33, 35, 37, 39, 41, 43, 45, 47, 49, 51, 53, 55, 57, 59, 61, 63, 65, 67, 69, 71, 73, 75, 77, 79, 81, 83, 85, 87, 89, 91, 93, 95, 97, 99]\n"
     ]
    }
   ],
   "source": [
    "numbers = [num for num in range(1, 101)]\n",
    "\n",
    "# Using another list comprehension to filter out odd numbers\n",
    "odd_numbers = [num for num in numbers if num % 2 != 0]\n",
    "\n",
    "print(odd_numbers)"
   ]
  },
  {
   "cell_type": "code",
   "execution_count": null,
   "id": "52e7241f-f4a6-491d-8a70-098b3bef37f2",
   "metadata": {},
   "outputs": [],
   "source": []
  }
 ],
 "metadata": {
  "kernelspec": {
   "display_name": "Python 3 (ipykernel)",
   "language": "python",
   "name": "python3"
  },
  "language_info": {
   "codemirror_mode": {
    "name": "ipython",
    "version": 3
   },
   "file_extension": ".py",
   "mimetype": "text/x-python",
   "name": "python",
   "nbconvert_exporter": "python",
   "pygments_lexer": "ipython3",
   "version": "3.10.8"
  }
 },
 "nbformat": 4,
 "nbformat_minor": 5
}
